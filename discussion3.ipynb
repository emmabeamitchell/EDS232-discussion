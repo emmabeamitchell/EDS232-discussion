{
 "cells": [
  {
   "cell_type": "code",
   "execution_count": 1,
   "id": "322a64f6-164c-4130-bc33-8e994ba9e8eb",
   "metadata": {
    "tags": []
   },
   "outputs": [],
   "source": [
    "# Import necessary libraries\n",
    "import numpy as np\n",
    "import pandas as pd\n",
    "from sklearn.model_selection import train_test_split\n",
    "from sklearn.linear_model import LogisticRegression\n",
    "from sklearn.metrics import roc_curve, auc, confusion_matrix\n",
    "import matplotlib.pyplot as plt\n",
    "from ipywidgets import interact, FloatSlider\n",
    "import seaborn as sns"
   ]
  },
  {
   "cell_type": "markdown",
   "id": "23de3777-6563-4657-9606-7148f8d0f469",
   "metadata": {},
   "source": [
    "Function 1"
   ]
  },
  {
   "cell_type": "code",
   "execution_count": 2,
   "id": "741f66a9-108d-4938-9eb2-40c46b42b275",
   "metadata": {
    "tags": []
   },
   "outputs": [],
   "source": [
    "def generate_species_data(n_samples=1000, presence_ratio=0.3):\n",
    "    # Calculate number of samples for each class\n",
    "    n_present = int(n_samples * presence_ratio)\n",
    "    n_absent = n_samples - n_present\n",
    "    \n",
    "    # Generate features for presence sites \n",
    "    # Green crabs prefer warmer temps (between 64 and 79 degrees Fahrenheit) and  salinity between 26 and 39 ppt\n",
    "    temp_present = np.random.normal(loc=71, scale= 4, size=n_present)\n",
    "    salinity_present = np.random.normal(loc=32, scale=3, size=n_present)\n",
    "    X_present = np.column_stack([temp_present, salinity_present])\n",
    "    y_present = np.ones(n_present)\n",
    "    \n",
    "    # Generate features for absence sites\n",
    "    # Sites with warmer temps or lower salinity\n",
    "    temp_absent = np.random.normal(loc=26, scale=3, size=n_absent)\n",
    "    salinity_absent = np.random.normal(loc=28, scale=2, size=n_absent)\n",
    "    X_absent = np.column_stack([temp_absent, salinity_absent])\n",
    "    y_absent = np.zeros(n_absent)\n",
    "    \n",
    "    # Combine and shuffle the data\n",
    "    X = np.concatenate([X_present, X_absent])\n",
    "    y = np.concatenate([y_present, y_absent])\n",
    "    \n",
    "    # Shuffle the data\n",
    "    shuffle_idx = np.random.permutation(n_samples)\n",
    "    X = X[shuffle_idx]\n",
    "    y = y[shuffle_idx]\n",
    "    \n",
    "    return X, y"
   ]
  },
  {
   "cell_type": "markdown",
   "id": "753c8013-aed6-47f2-b94f-9c92ab68aade",
   "metadata": {},
   "source": [
    "Create a function that creates a bar plot of species distribution"
   ]
  },
  {
   "cell_type": "code",
   "execution_count": 3,
   "id": "851e6262-5eed-4a3b-b653-94106c3f7491",
   "metadata": {
    "tags": []
   },
   "outputs": [],
   "source": [
    "def plot_class_distribution(y):\n",
    "    plt.figure(figsize = (8,4))\n",
    "    \n",
    "    # Count the values in each category (present and absent)\n",
    "    class_counts = pd.Series(y).value_counts().sort_index()\n",
    "    \n",
    "    # create a barplot of absent and present species\n",
    "    sns.barplot(x = ['Absent', 'Present'], y = class_counts, color = '#005477')\n",
    "    plt.title('Dist of Species Present and Absent')\n",
    "    plt.ylabel('Number of Sampling Sites')\n",
    "    \n",
    "    # add percent over each bar\n",
    "    total = len(y)\n",
    "    for i, count in enumerate(class_counts):\n",
    "        percentage = count/total * 100\n",
    "        plt.text(i, count, f'{percentage:.1f}%', ha = 'center', va = 'bottom') #bottom = top\n",
    "        plt.show()"
   ]
  },
  {
   "cell_type": "markdown",
   "id": "4a519a85-ffae-422c-ac59-f3db30103bfc",
   "metadata": {},
   "source": [
    "create a function that plots a confusion matrix"
   ]
  },
  {
   "cell_type": "code",
   "execution_count": 4,
   "id": "4bfc71e1-4b40-46ef-af3d-c0a7caeccc7c",
   "metadata": {
    "tags": []
   },
   "outputs": [],
   "source": [
    "def plot_confusion_matrix(y_true, y_pred):\n",
    "    \n",
    "    # create confusion matrix\n",
    "    cm = confusion_matrix(y_true, y_pred)\n",
    "    \n",
    "    # create confusion matrix plot\n",
    "    \n",
    "    plt.figure(figsize = (8,6))\n",
    "    sns.heatmap(cm, annot = True, fmt = 'd', cmap = 'GnBu', # annot = annotate, fmt = format\n",
    "               xticklabels = ['Absent', 'Present'],\n",
    "               yticklabels = ['Absent', 'Present']) \n",
    "    plt.title('Confusion Matrix')\n",
    "    plt.ylabel('True Label')\n",
    "    plt.xlabel('Predictive Label')\n",
    "    plt.show()\n",
    "    \n",
    "    # calculate metrics\n",
    "    TP = cm[1,1] # true positive\n",
    "    TN = cm[0,0] # true negative\n",
    "    FP = cm[0,1] # false positive\n",
    "    FN = cm[1,0] # false negative\n",
    "    \n",
    "    \n",
    "    print(\"\\nMetrics from Confusion Matrix:\")\n",
    "    print(f\"True Positives (correctly predicted presence): {TP}\")\n",
    "    print(f\"True Negatives (correctly predicted absence): {TN}\")\n",
    "    print(f\"False Positives (incorrectly predicted presence): {FP}\")\n",
    "    print(f\"FalseNegatives (incorrectly predicted absence): {FN}\")\n",
    "    \n",
    "    # calculate accuracy\n",
    "    \n",
    "    accuracy = (TP +TN)/ (TP + TN + FP + FN)\n",
    "    majority_baseline = max(np.mean(y_true), 1 - np.mean(y_true))\n",
    "    sensitivity = TP/(TP + FN)\n",
    "    specificity = TN / (TN + FP)\n",
    "    \n",
    "    # print metrics\n",
    "    print(f\"\\nModel Performance Metrics :\")\n",
    "    print(f\"Accuracy: {accuracy:.3f}\")\n",
    "    print(f\"Sensitivity (True positive rate): {sensitivity:.3f}\")\n",
    "    print(f\"Specificity (True negative rate): {specificity:.3f}\")"
   ]
  },
  {
   "cell_type": "markdown",
   "id": "91eac886-8d1c-465f-9f40-f6fe0ad7903f",
   "metadata": {},
   "source": [
    "Create a function that plots an ROC curve"
   ]
  },
  {
   "cell_type": "code",
   "execution_count": 5,
   "id": "b4e5c0ce-5eb1-4f03-ab06-1776b493708e",
   "metadata": {
    "tags": []
   },
   "outputs": [],
   "source": [
    "def plot_roc_curve(y_test, y_pred_prob):\n",
    "    \n",
    "    \n",
    "    fpr, tpr, _ = roc_curve(y_test, y_pred_prob) #fpr = false positive rate, tpr = true positive rate, _ means ignore thresholds\n",
    "    roc_auc = auc(fpr, tpr) # auc = area under the curve\n",
    "    \n",
    "    plt.figure(figsize = (8,6))\n",
    "    plt.plot(fpr, tpr, color = 'darkorange', lw = 2, \n",
    "            label = f\"ROC Curve (AUC = {roc_auc:.2f})\")\n",
    "    plt.plot([0,1], [0,1], color = 'navy', lw = 2, linestyle = '--',\n",
    "            label = 'Random Classifier (AUC = 0.5)')\n",
    "    plt.xlabel('False Positive Rate')\n",
    "    plt.ylabel('True Positive Rate')\n",
    "    plt.title('ROC Curve: Species Presence Prediction')\n",
    "    plt.legend()\n",
    "    plt.grid(True)\n",
    "    plt.show()"
   ]
  },
  {
   "cell_type": "markdown",
   "id": "3565b537-4143-43b7-befc-c5bfb6714860",
   "metadata": {},
   "source": [
    "Creat a function that runs a logistic regression and outputs a distribution plot, confusion matrix, and ROC curve"
   ]
  },
  {
   "cell_type": "code",
   "execution_count": 6,
   "id": "737d3a2e-1009-4d6e-a698-50ecdcc16953",
   "metadata": {
    "tags": []
   },
   "outputs": [],
   "source": [
    "def interactive_logistic_regression(presence_ratio = 0.3):\n",
    "    X,y = generate_species_data(presence_ratio = presence_ratio)\n",
    "    \n",
    "    # plot class distribution\n",
    "    print(\"\\nClass Distribution\")\n",
    "    plot_class_distribution(y)\n",
    "    \n",
    "    # Split the data\n",
    "    X_train, X_test, y_train, y_test = train_test_split(X, y, test_size = 0.3, random_state = 42)\n",
    "    \n",
    "    # train the model\n",
    "    model = LogisticRegression()\n",
    "    model.fit(X_train, y_train)\n",
    "    \n",
    "    # make my predictions \n",
    "    y_pred = model.predict(X_test)\n",
    "    y_pred_prob = model.predict_proba(X_test)[:,1]\n",
    "    \n",
    "    # plot confusion matrix\n",
    "    print(\"\\nConfusion Matrix\")\n",
    "    plot_confusion_matrix(y_test, y_pred)\n",
    "    \n",
    "    # plot roc curve\n",
    "    print(\"\\nROC Curve:\")\n",
    "    plot_roc_curve(y_test, y_pred_prob)"
   ]
  },
  {
   "cell_type": "markdown",
   "id": "4584e503-a509-49de-be0d-dabf9fff0a2d",
   "metadata": {},
   "source": [
    "Create interactivity"
   ]
  },
  {
   "cell_type": "code",
   "execution_count": 7,
   "id": "02b052c4-eb4f-4d4b-8c4e-4ab093ced152",
   "metadata": {
    "tags": []
   },
   "outputs": [
    {
     "data": {
      "application/vnd.jupyter.widget-view+json": {
       "model_id": "dedf58eccc2b4fe18f8bc0736afa9f0a",
       "version_major": 2,
       "version_minor": 0
      },
      "text/plain": [
       "interactive(children=(FloatSlider(value=0.3, description='% present', max=0.9, min=0.1), Output()), _dom_class…"
      ]
     },
     "metadata": {},
     "output_type": "display_data"
    }
   ],
   "source": [
    "# create interactive widget\n",
    "\n",
    "def generate_log_regression():\n",
    "    interact(interactive_logistic_regression, \n",
    "            presence_ratio = FloatSlider(min = 0.1, max = 0.9, step = .1, value = 0.3,\n",
    "                                        description = '% present')\n",
    "            )\n",
    "generate_log_regression()"
   ]
  },
  {
   "cell_type": "code",
   "execution_count": null,
   "id": "848dcbed-fd1a-400c-94d2-d487e41bcfdd",
   "metadata": {},
   "outputs": [],
   "source": []
  },
  {
   "cell_type": "code",
   "execution_count": null,
   "id": "8eb29798-aa88-4487-8ae4-5ec8c02830c8",
   "metadata": {},
   "outputs": [],
   "source": []
  },
  {
   "cell_type": "code",
   "execution_count": null,
   "id": "a50c0c1d-60df-4d33-9b40-f8e5c82f6238",
   "metadata": {},
   "outputs": [],
   "source": []
  }
 ],
 "metadata": {
  "kernelspec": {
   "display_name": "Python 3 (ipykernel)",
   "language": "python",
   "name": "python3"
  },
  "language_info": {
   "codemirror_mode": {
    "name": "ipython",
    "version": 3
   },
   "file_extension": ".py",
   "mimetype": "text/x-python",
   "name": "python",
   "nbconvert_exporter": "python",
   "pygments_lexer": "ipython3",
   "version": "3.7.13"
  }
 },
 "nbformat": 4,
 "nbformat_minor": 5
}
