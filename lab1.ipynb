{
 "cells": [
  {
   "cell_type": "markdown",
   "id": "1035b4a4-4e37-4739-b001-28b66ff29450",
   "metadata": {},
   "source": [
    "# Lab 1"
   ]
  },
  {
   "cell_type": "markdown",
   "id": "a184e9aa-00d2-40a4-bc4d-2664f81d44c4",
   "metadata": {},
   "source": [
    "data loading"
   ]
  },
  {
   "cell_type": "code",
   "execution_count": 1,
   "id": "9a2297d1-cc81-407e-9986-01ab1f8bd0bc",
   "metadata": {
    "tags": []
   },
   "outputs": [],
   "source": [
    "import pandas as pd\n",
    "import numpy as np\n",
    "from sklearn.linear_model import LinearRegression\n",
    "from sklearn.model_selection import train_test_split\n",
    "from sklearn.metrics import mean_squared_error, r2_score\n",
    "import matplotlib.pyplot as plt\n",
    "from ipywidgets import interact\n",
    "import ipywidgets as widgets\n",
    "from ipywidgets import interact, FloatSlider\n",
    "from IPython.display import display, clear_output"
   ]
  },
  {
   "cell_type": "code",
   "execution_count": 2,
   "id": "380da2b4-6679-4142-93a1-d7d3474adb7e",
   "metadata": {
    "tags": []
   },
   "outputs": [],
   "source": [
    "file_path = 'data/Hurricane.xlsx'\n",
    "do_data = pd.read_excel(file_path, sheet_name = 5).drop(['Piermont D.O. (ppm)'], axis = 1)\n",
    "rainfall_data = pd.read_excel(file_path, sheet_name = 'Rainfall').drop(['Piermont  Rainfall Daily Accumulation (Inches)'], axis = 1)\n",
    "turbidity_data = pd.read_excel(file_path, sheet_name = 'Turbidity').drop(['Piermont Turbidity in NTU'], axis = 1)\n"
   ]
  },
  {
   "cell_type": "markdown",
   "id": "d9a96aed-cc33-46f8-88b7-5081c22faf45",
   "metadata": {},
   "source": [
    "Data Cleaning"
   ]
  },
  {
   "cell_type": "code",
   "execution_count": 3,
   "id": "baee7d4b-bd6c-4137-a244-52bb6f6571e8",
   "metadata": {
    "tags": []
   },
   "outputs": [],
   "source": [
    "# merge the three datasets\n",
    "\n",
    "data = do_data.merge(rainfall_data, on = \"Date Time (ET)\")\n",
    "data = data.merge(turbidity_data, on = \"Date Time (ET)\")\n",
    "\n",
    "# update column names \n",
    "\n",
    "data.columns = ['date', 'albany_DO', 'norrie_DO', 'albany_rainfall', 'norrie_rainfall', 'albany_turbidity', 'norrie_turbidity']\n",
    "\n",
    "data['date'] = pd.to_datetime(data['date'])\n",
    "\n",
    "data.set_index('date', inplace = True)"
   ]
  },
  {
   "cell_type": "markdown",
   "id": "25cd0e72-2b1c-49e0-8b4f-0477559ff27a",
   "metadata": {},
   "source": [
    "Multiple Linear Regression"
   ]
  },
  {
   "cell_type": "code",
   "execution_count": 4,
   "id": "e03cb40a-d1be-4980-8d7d-43e4c94b18b1",
   "metadata": {
    "tags": []
   },
   "outputs": [
    {
     "data": {
      "text/plain": [
       "0.4907389518457509"
      ]
     },
     "execution_count": 4,
     "metadata": {},
     "output_type": "execute_result"
    }
   ],
   "source": [
    "# define predictors and the target variable\n",
    "X = data[['albany_DO', 'albany_rainfall']]\n",
    "y = data[['albany_turbidity']]\n",
    "\n",
    "# split the data into training and testing sets\n",
    "X_train, X_test, y_train, y_test = train_test_split(X, y, test_size = 0.3, random_state = 42)\n",
    "\n",
    "# Create and fit the model\n",
    "model = LinearRegression()\n",
    "model.fit(X_train, y_train)\n",
    "\n",
    "# predict and evaluate\n",
    "y_pred = model.predict(X_test)\n",
    "\n",
    "rmse = np.sqrt(mean_squared_error(y_test, y_pred))\n",
    "rmse\n",
    "\n",
    "r2 = r2_score(y_test, y_pred)\n",
    "r2"
   ]
  },
  {
   "cell_type": "markdown",
   "id": "8da886e4-b740-4ee5-a4cf-06efa86f6671",
   "metadata": {},
   "source": [
    "Create a widget to visualize different models"
   ]
  },
  {
   "cell_type": "code",
   "execution_count": 6,
   "id": "c87da312-57a9-420f-be1b-0efe5f77377b",
   "metadata": {
    "tags": []
   },
   "outputs": [
    {
     "data": {
      "application/vnd.jupyter.widget-view+json": {
       "model_id": "85a4864882b04d2dae4191c2c4c52e1a",
       "version_major": 2,
       "version_minor": 0
      },
      "text/plain": [
       "SelectMultiple(description='Predictors', index=(0,), options=('albany_DO', 'norrie_DO', 'albany_rainfall', 'no…"
      ]
     },
     "metadata": {},
     "output_type": "display_data"
    },
    {
     "data": {
      "application/vnd.jupyter.widget-view+json": {
       "model_id": "18dcd93a57fb4ea3a9a0b40178c9fe2e",
       "version_major": 2,
       "version_minor": 0
      },
      "text/plain": [
       "Dropdown(description='Target', index=1, options=('albany_DO', 'norrie_DO', 'albany_rainfall', 'norrie_rainfall…"
      ]
     },
     "metadata": {},
     "output_type": "display_data"
    },
    {
     "data": {
      "application/vnd.jupyter.widget-view+json": {
       "model_id": "87c5ea456bec4031889eb13e6e6f744f",
       "version_major": 2,
       "version_minor": 0
      },
      "text/plain": [
       "Button(description='Evaluate', style=ButtonStyle())"
      ]
     },
     "metadata": {},
     "output_type": "display_data"
    },
    {
     "data": {
      "application/vnd.jupyter.widget-view+json": {
       "model_id": "57fc59658d5d4c56b8f82e166dddd7b6",
       "version_major": 2,
       "version_minor": 0
      },
      "text/plain": [
       "Output()"
      ]
     },
     "metadata": {},
     "output_type": "display_data"
    }
   ],
   "source": [
    "# Create a widget for selecting predictors\n",
    "predictor_selector = widgets.SelectMultiple(\n",
    "    options = data.columns,\n",
    "    value = [data.columns[0]],\n",
    "    description = 'Predictors'\n",
    ")\n",
    "\n",
    "# Create a dropdown for selecting the target variable\n",
    "target_selector = widgets.Dropdown(\n",
    "    options = data.columns,\n",
    "    value = data.columns[1],\n",
    "    description = 'Target'\n",
    ")\n",
    "\n",
    "# Button to evaluate the model\n",
    "evaluate_button = widgets.Button(\n",
    "    description = 'Evaluate'\n",
    ")\n",
    "\n",
    "# Output widget to display results\n",
    "output = widgets.Output()\n",
    "\n",
    "# Define the function to handle button clicks\n",
    "def evaluate_model(b):\n",
    "    with output:\n",
    "        clear_output(wait = True) # Clear output of display area\n",
    "        \n",
    "        # Make sure the target is not in the predictors\n",
    "        selected_predictors = [item for item in predictor_selector.value]\n",
    "        if target_selector.value in selected_predictors:\n",
    "            print(\"Target variable must not be in the predictors.\")\n",
    "            return\n",
    "        \n",
    "        # Define predictors and the target variable\n",
    "        X = data[selected_predictors]\n",
    "        y = data[target_selector.value]\n",
    "        \n",
    "        # Split the data into training and testing sets\n",
    "        X_train, X_test, y_train, y_test = train_test_split(X, y, test_size = 0.3, random_state = 42)\n",
    "        \n",
    "        # Create and fit the model\n",
    "        model = LinearRegression()\n",
    "        model.fit(X_train, y_train)\n",
    "        \n",
    "        #Predict and evaluate\n",
    "        Y_pred = model.predict(X_test)\n",
    "        mse = mean_squared_error(y_test, y_pred)\n",
    "        r2 = r2_score(y_test, y_pred)\n",
    "        \n",
    "        # Display the values\n",
    "        print(f\"R^2: {r2:.4f}\")\n",
    "        print(f\"MSE: {mse:.4f}\")\n",
    "        \n",
    "# Display the widgets and connect the button to the function\n",
    "display(predictor_selector, target_selector, evaluate_button, output)\n",
    "evaluate_button.on_click(evaluate_model)\n",
    "\n",
    "\n"
   ]
  },
  {
   "cell_type": "code",
   "execution_count": null,
   "id": "02a58e2b-7bb6-41ad-bd67-14d30cabebf7",
   "metadata": {},
   "outputs": [],
   "source": []
  }
 ],
 "metadata": {
  "kernelspec": {
   "display_name": "Anaconda 3 (EDS232)",
   "language": "python",
   "name": "ml-env"
  },
  "language_info": {
   "codemirror_mode": {
    "name": "ipython",
    "version": 3
   },
   "file_extension": ".py",
   "mimetype": "text/x-python",
   "name": "python",
   "nbconvert_exporter": "python",
   "pygments_lexer": "ipython3",
   "version": "3.10.16"
  }
 },
 "nbformat": 4,
 "nbformat_minor": 5
}
